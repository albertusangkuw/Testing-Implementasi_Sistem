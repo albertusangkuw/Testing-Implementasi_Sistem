{
 "metadata": {
  "language_info": {
   "codemirror_mode": {
    "name": "ipython",
    "version": 3
   },
   "file_extension": ".py",
   "mimetype": "text/x-python",
   "name": "python",
   "nbconvert_exporter": "python",
   "pygments_lexer": "ipython3",
   "version": "3.9.1"
  },
  "orig_nbformat": 2,
  "kernelspec": {
   "name": "python391jvsc74a57bd050782d178f1405137298b3c267a3e2b4ae114b9d45e23562838435612f8f6c8f",
   "display_name": "Python 3.9.1 64-bit"
  }
 },
 "nbformat": 4,
 "nbformat_minor": 2,
 "cells": [
  {
   "cell_type": "code",
   "execution_count": null,
   "metadata": {},
   "outputs": [],
   "source": [
    "def getFolder(mypath):\n",
    "    from os import listdir\n",
    "    return listdir(mypath)"
   ]
  },
  {
   "cell_type": "code",
   "execution_count": null,
   "metadata": {},
   "outputs": [],
   "source": [
    "def getMP3Folder(mypath):\n",
    "    from os import listdir\n",
    "    return [f for f in listdir(mypath) if f.endswith(\".mp3\")]\n"
   ]
  },
  {
   "cell_type": "code",
   "execution_count": null,
   "metadata": {},
   "outputs": [],
   "source": [
    "def getMetadata(mp3path):\n",
    "    from tinytag import TinyTag\n",
    "    tag = TinyTag.get(mp3path)\n",
    "    payload = {}\n",
    "    payload['artis'] = tag.artist\n",
    "    payload['album'] = tag.album\n",
    "    payload['title'] = tag.title\n",
    "    payload['year'] = tag.year\n",
    "    payload['genre'] = tag.genre\n",
    "    payload['url'] = mp3path \n",
    "    return payload\n"
   ]
  },
  {
   "cell_type": "code",
   "execution_count": null,
   "metadata": {},
   "outputs": [],
   "source": [
    "path = \"RepoSong\""
   ]
  },
  {
   "cell_type": "code",
   "execution_count": null,
   "metadata": {},
   "outputs": [],
   "source": [
    "artist = {}\n",
    "artists = getFolder(path)\n",
    "for x in artists :\n",
    "    albums = getFolder(path + \"/\" + x)\n",
    "    print(x + \" : \"  + str(len(albums)) + \" album's\")\n",
    "    print(albums)\n",
    "    detailAlbum = {}\n",
    "    for y in albums :\n",
    "        detailSongs = {}\n",
    "        mp3files = getMP3Folder(path + \"/\" + x + \"/\" +  y)\n",
    "        for z in mp3files :\n",
    "            metadat = getMetadata(path + \"/\" + x + \"/\" +  y + \"/\" +  z)\n",
    "            detailSongs[str(metadat['title'])] = metadat\n",
    "        detailAlbum[str(y)] = detailSongs\n",
    "    artist[str(x)] = detailAlbum\n"
   ]
  },
  {
   "cell_type": "code",
   "execution_count": null,
   "metadata": {
    "tags": []
   },
   "outputs": [],
   "source": [
    "from pprint import pprint\n",
    "pprint(artist)"
   ]
  },
  {
   "cell_type": "code",
   "execution_count": null,
   "metadata": {},
   "outputs": [],
   "source": [
    "import random\n",
    "import time\n",
    "\n",
    "def str_time_prop(start, end, format, prop):\n",
    "    \"\"\"Get a time at a proportion of a range of two formatted times.\n",
    "\n",
    "    start and end should be strings specifying times formated in the\n",
    "    given format (strftime-style), giving an interval [start, end].\n",
    "    prop specifies how a proportion of the interval to be taken after\n",
    "    start.  The returned time will be in the specified format.\n",
    "    \"\"\"\n",
    "\n",
    "    stime = time.mktime(time.strptime(start, format))\n",
    "    etime = time.mktime(time.strptime(end, format))\n",
    "\n",
    "    ptime = stime + prop * (etime - stime)\n",
    "\n",
    "    return time.strftime(format, time.localtime(ptime))\n",
    "\n",
    "\n",
    "def random_date(start, end, prop):\n",
    "    return str_time_prop(start, end, '%Y-%m-%d', prop)\n",
    "\n",
    "def generate_date_users():\n",
    "    return random_date(\"2015-1-1\", \"2017-1-1\", random.random())\n",
    "def generate_date_albums():\n",
    "    return random_date(\"2017-1-1\", \"2021-1-1\", random.random())\n",
    "for i in range(0,10):\n",
    "    newDate = generate_date_albums()\n",
    "    print(newDate)"
   ]
  },
  {
   "cell_type": "code",
   "execution_count": null,
   "metadata": {},
   "outputs": [],
   "source": [
    "c1 = 1\n",
    "for arts in  artist:\n",
    "    import hashlib\n",
    "    newid = hashlib.md5( (arts + str(len(artist[arts]))).encode('utf-8') ).hexdigest()\n",
    "    print('INSERT INTO user(iduser,username,urlphotoprofile,datejoin,categories) VALUES(\"' + str(newid) + '\",\"' + str(arts) + '\",\"' + 'RepoSong/' + str(arts) + '/imgprofile.jpg'+ '\",\"' + generate_date_users() + '\",\"1\");' )\n",
    "    print('INSERT INTO artist(iduser) VALUES(\"' + str(newid) + '\");' )\n",
    "    for album in artist[arts]:\n",
    "         uniqGenre = {}\n",
    "         for songs in artist[arts][album]:\n",
    "             if artist[arts][album][songs][\"genre\"] in uniqGenre:\n",
    "                 uniqGenre[artist[arts][album][songs][\"genre\"]] = uniqGenre[artist[arts][album][songs][\"genre\"]] + 1\n",
    "             else :\n",
    "                 uniqGenre[artist[arts][album][songs][\"genre\"]] = 1\n",
    "         print('INSERT INTO album(idalbum,iduser,namealbum,genre,daterelease,urlimagecover) VALUES(\"' + str(c1) + '\",\"' + str(newid) + '\",\"' + album  + '\",\"' + max(uniqGenre, key=uniqGenre.get) + '\",\"' + generate_date_albums() + '\",\"' + 'RepoSong/' + str(arts)  + '/' + album + '/cover.jpg'  +  '\");' )\n",
    "         #print(max(uniqGenre, key=uniqGenre.get))\n",
    "         for songs in artist[arts][album]:\n",
    "             print('INSERT INTO song(idalbum,title,genre,urlsongs) VALUES(\"' + str(c1) + '\",\"' + str(songs) + '\",\"' + artist[arts][album][songs][\"genre\"] + '\",\"' + artist[arts][album][songs][\"url\"]  +  '\");' )\n",
    "         c1 = c1 + 1"
   ]
  },
  {
   "cell_type": "code",
   "execution_count": null,
   "metadata": {},
   "outputs": [],
   "source": []
  }
 ]
}